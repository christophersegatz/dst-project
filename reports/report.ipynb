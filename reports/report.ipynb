{
 "cells": [
  {
   "cell_type": "markdown",
   "metadata": {},
   "source": [
    "# Report"
   ]
  },
  {
   "attachments": {},
   "cell_type": "markdown",
   "metadata": {},
   "source": [
    "## Introduction and data"
   ]
  },
  {
   "attachments": {},
   "cell_type": "markdown",
   "metadata": {},
   "source": [
    "> REMOVE THE FOLLOWING TEXT\n",
    "\n",
    "This section includes an introduction to the project motivation, data, and (research) question.\n",
    "### Introduction\n",
    "\n",
    "Durch die Digitalisierung der Versicherungsbranche wurde eine neue Norm gesetzt, die es ermöglichte besser auf die Bedürfnisse der Kunden einzugehen. Die Versicherungen stellten sich damit einer bereits bekannten Herausforderung, dem Versicherungsbetrug. Jede zehnte Schadensmeldung ist betrugsverdächtig und kostet den deutschen Versicherungen rund fünf Milliarden Euro pro Jahr (GDV, 2020). Um Versicherungsbetrug zu erkennen, wird spezielle Betrugserkennungssoftware verwendet. Hierbei nutzen Versicherungsbetrüger zunehmend Anleitungen aus dem Internet, die es erleichtern die Betrugserkennungssoftware zu umgehen (GDV, 2020). \n",
    "\n",
    "*Quelle: https://www.gdv.de/gdv/medien/medieninformationen/sorge-der-versicherer-corona-gibt-betruegern-auftrieb-61842*\n",
    "\n",
    "Mit diesem Datensatz untersuchen wir, ob und welche Maßnahmen nötig sind, um den Prozess der Erkennung von Versicherungsbetrug zu verbessern. \n",
    "\n",
    "### Forschungsfrage\n",
    "\n",
    "Welche Faktoren sind für die Erkennung von Betrugsfällen relevant?\n",
    "\n",
    "Wir haben folgende Hypothesen:\n",
    "\n",
    "1. Unter 35 jährige Versicherungskunden betrügen öfters.-> Relevante Variablen: InsuredAge, ReportedFraud\n",
    "\n",
    "2. Männer betrügen häufiger als Frauen.-> Relevante Variablen: InsuredGender, ReportedFraud\n",
    "\n",
    "3. Schadensfälle ohne polizeilicher Dokumentation sind häufiger Betrugsfälle.-> Relevante Variablen: AuthoritiesContacted, ReportedFraud\n",
    "\n",
    "\n",
    "\n",
    "\n",
    "### Data Dictionary\n",
    "\n",
    "Beschreibung der relevanten Variablen\n",
    "\n",
    "- InsuredAge: Das Alter des Kunden zum Zeitpunkt des Anspruchs. (Datentyp: Integer)<br>\n",
    "- InsuredGender: Das Geschlecht des Kunden. (Datentyp: String)<br>\n",
    "- AuthorotiesContacted: Information darüber, ob Behörden (Polizei, Krankenwagen, Feuerwehr oder andere) kontaktiert wurden. (Datentyp: String)<br>\n",
    "- ReportedFraud: Information darüber, ob der Anspruch als Betrug gemeldet wurde oder nicht. (Datentyp: String)<br>\n",
    "\n",
    "<br>\n",
    "\n",
    "\n",
    "| Name  |    Type \t  |    Format \t  |\n",
    "|---\t|---\t          \t|---\t          \t|\n",
    "| AuthoritiesContacted  \t|   nominal     | object      \t    | \n",
    "| InsuredAge  \t|   numerical\t       \t    | int |\n",
    "| InsuredGender  \t|   nominal\t       \t    | object |\n",
    "| ReportedFraud  \t|   \t nominal      \t| object|\n",
    "\n",
    "\n",
    "<br>\n",
    "\n",
    "\n",
    "### Data Corrections\n",
    "\n",
    "> Use content from the [BIG IDEA worksheet](https://docs.google.com/document/d/1-GZvhdbhLYLB_Bo1arj1rgTqbJ5SUoU21vtgbYEhVqk/edit?usp=sharing)   \n",
    "\n",
    "Describe the data and definitions of key variables.\n",
    "\n",
    "It should also include some exploratory data analysis.\n",
    "\n",
    "*All of the EDA won't fit in the paper, so focus on the EDA for the response variable and a few other interesting variables and relationships.*"
   ]
  },
  {
   "attachments": {},
   "cell_type": "markdown",
   "metadata": {},
   "source": [
    "## Setup"
   ]
  },
  {
   "cell_type": "code",
   "execution_count": null,
   "metadata": {},
   "outputs": [],
   "source": [
    "import pandas as pd\n",
    "import altair as alt\n",
    "import numpy as np\n",
    "import warnings\n",
    "\n",
    "warnings.simplefilter(action='ignore', category=FutureWarning)\n",
    "alt.data_transformers.disable_max_rows()"
   ]
  },
  {
   "attachments": {},
   "cell_type": "markdown",
   "metadata": {},
   "source": [
    "## Data"
   ]
  },
  {
   "attachments": {},
   "cell_type": "markdown",
   "metadata": {},
   "source": [
    "### Import Data"
   ]
  },
  {
   "cell_type": "code",
   "execution_count": null,
   "metadata": {},
   "outputs": [],
   "source": [
    "ROOT= \"https://raw.githubusercontent.com/christophersegatz/dst-project/main/data/insurance_fraud/\"\n",
    "DATA = \"fraud.csv\"\n",
    "\n",
    "df=pd.read_csv(ROOT + DATA)"
   ]
  },
  {
   "attachments": {},
   "cell_type": "markdown",
   "metadata": {},
   "source": [
    "### Data Structure"
   ]
  },
  {
   "cell_type": "code",
   "execution_count": null,
   "metadata": {},
   "outputs": [],
   "source": [
    "df.info()"
   ]
  },
  {
   "attachments": {},
   "cell_type": "markdown",
   "metadata": {},
   "source": [
    "### Data Corrections"
   ]
  },
  {
   "cell_type": "code",
   "execution_count": null,
   "metadata": {},
   "outputs": [],
   "source": [
    "# Nicht benötigte Tabellen aus dem Dataframe entfernen\n",
    "df.drop([\"DateOfIncident\",\"TypeOfCollission\", \"SeverityOfIncident\", \"IncidentState\", \"IncidentCity\", \"IncidentAddress\", \"IncidentTime\",\n",
    "         \"NumberOfVehicles\", \"PropertyDamage\", \"BodilyInjuries\", \"Witnesses\", \"PoliceReport\", \"AmountOfTotalClaim\", \"AmountOfInjuryClaim\",\n",
    "        \"AmountOfPropertyClaim\", \"AmountOfVehicleDamage\", \"InsuredZipCode\", \"InsuredOccupation\", \"InsuredHobbies\",\n",
    "        \"CapitalGains\", \"CapitalLoss\", \"Country\", \"InsurancePolicyNumber\", \"DateOfPolicyCoverage\", \"InsurancePolicyState\", \"Policy_CombinedSingleLimit\",\n",
    "        \"Policy_Deductible\", \"PolicyAnnualPremium\", \"UmbrellaLimit\", \"InsuredRelationship\", \"CustomerID\", \"TypeOfIncident\",\n",
    "        \"InsuredEducationLevel\", \"CustomerLoyaltyPeriod\"], axis= 1, inplace=True)\n",
    "\n",
    "# Entfernt alle Zeilen, die mindestens einen Null-Wert haben\n",
    "df.dropna()"
   ]
  },
  {
   "cell_type": "code",
   "execution_count": null,
   "metadata": {},
   "outputs": [],
   "source": [
    "# Als kategoriale Variablen abändern\n",
    "df = df.astype(\n",
    "    {\n",
    "        \"AuthoritiesContacted\": \"category\",\n",
    "        \"InsuredGender\": \"category\",\n",
    "})"
   ]
  },
  {
   "attachments": {},
   "cell_type": "markdown",
   "metadata": {},
   "source": [
    "## Analyse"
   ]
  },
  {
   "attachments": {},
   "cell_type": "markdown",
   "metadata": {},
   "source": [
    "### Deskriptive Analyse"
   ]
  },
  {
   "cell_type": "code",
   "execution_count": null,
   "metadata": {},
   "outputs": [],
   "source": [
    "df.head()"
   ]
  },
  {
   "cell_type": "code",
   "execution_count": null,
   "metadata": {},
   "outputs": [],
   "source": [
    "df.info()"
   ]
  },
  {
   "cell_type": "code",
   "execution_count": null,
   "metadata": {},
   "outputs": [],
   "source": [
    "mean_insured_age = df['InsuredAge'].mean()\n",
    "mean_insured_age = round(mean_insured_age, 0)\n",
    "print(\"Durchschnittliches Alter der Versicherten: {:.0f}\".format(mean_insured_age))\n",
    "\n",
    "\n",
    "# Boxplot-Diagramm\n",
    "box = alt.Chart(df).mark_boxplot().encode(\n",
    "    x=alt.X('InsuredAge:Q',axis=alt.Axis(title=\"\"))\n",
    ")\n",
    "\n",
    "hist = alt.Chart(df).mark_bar().encode(\n",
    "    alt.X(\"InsuredAge\", bin=alt.Bin(maxbins=30), title=\"Alter\"),\n",
    "    y=alt.Y('count()', axis=alt.Axis(title=\"Anzahl der Versicherten\")),\n",
    ")\n",
    "\n",
    "hist | box"
   ]
  },
  {
   "attachments": {},
   "cell_type": "markdown",
   "metadata": {},
   "source": [
    "Erkenntnis aus den Graphen:\n",
    "\n",
    "- Das maximale Alter der Versicherten beträgt 64 und das minimalste 19.\n",
    "- Der dritte Quartil (Q3) des Alters liegt bei 44, was bedeutet, dass 75% der Versicherten jünger als 44 Jahre alt sind.\n",
    "- Der erste Quartil (Q1) des Alters liegt bei 33, was bedeutet, dass 25% der Versicherten jünger als 33 Jahre alt sind.\n",
    "- Der Median des Alters beträgt 38, was bedeutet, dass 50% der Versicherten jünger und 50% älter als 38 Jahre alt sind."
   ]
  },
  {
   "cell_type": "code",
   "execution_count": null,
   "metadata": {},
   "outputs": [],
   "source": [
    "# Fehlende werte entfernen\n",
    "df_gender = df.dropna(subset=['InsuredGender'])\n",
    "\n",
    "bar_gender = alt.Chart(df_gender).mark_bar(size=40).encode(\n",
    "    alt.X(\"InsuredGender:N\", axis=alt.Axis(title=\"\"), sort=['F', 'M']),\n",
    "    alt.Y(\"count()\", axis=alt.Axis(title=\"\")),\n",
    "    color=alt.Color('InsuredGender:N', legend=alt.Legend(title=\"Geschlecht\"))\n",
    ")\n",
    "\n",
    "text_gender = alt.Chart(df_gender).mark_text(\n",
    "    align='center',\n",
    "    baseline='middle',\n",
    "    fontWeight='bold',\n",
    "    dy=-10\n",
    ").encode(\n",
    "    x=alt.X('InsuredGender:N', axis=alt.Axis(title=\"\")),\n",
    "    y=alt.Y('count()', axis=alt.Axis(title='Anzahl Versicherter')),\n",
    "    text=alt.Text('count()'),\n",
    ")\n",
    "gender_layer = bar_gender+text_gender\n",
    "\n",
    "gender_layer.configure_axis(\n",
    "    labelAngle=0\n",
    ").properties(\n",
    "    width=400,\n",
    "    height=200,\n",
    "    title=\"Anzahl Versicherter nach Geschlecht\"\n",
    ").configure_legend(\n",
    "    orient='right',\n",
    "    strokeWidth=1,\n",
    "    padding=10,\n",
    "    strokeColor='grey'\n",
    ")"
   ]
  },
  {
   "attachments": {},
   "cell_type": "markdown",
   "metadata": {},
   "source": [
    "Die Anzahl der weiblichen (15644) ist höher als die, der männlichen Versicherten (13162). "
   ]
  },
  {
   "cell_type": "code",
   "execution_count": null,
   "metadata": {},
   "outputs": [],
   "source": [
    "# Barchart\n",
    "bar_auth = alt.Chart(df).mark_bar().encode(\n",
    "    alt.X('AuthoritiesContacted:N', axis=alt.Axis(title=''),),\n",
    "    alt.Y('count()', axis=alt.Axis(title='')),\n",
    "    alt.Color('AuthoritiesContacted:N', legend=alt.Legend(title='Kontaktierte Behörden')),\n",
    ")\n",
    "text_auth = alt.Chart(df_gender).mark_text(\n",
    "    align='center',\n",
    "    baseline='middle',\n",
    "    fontWeight='bold',\n",
    "    dy=-10\n",
    ").encode(\n",
    "    x=alt.X('AuthoritiesContacted:N', axis=alt.Axis(title=''),),\n",
    "    y=alt.Y('count()', axis=alt.Axis(title='Anzahl')),\n",
    "    text=alt.Text('count()')\n",
    ")\n",
    "grouped_auth=bar_auth+text_auth\n",
    "\n",
    "grouped_auth.properties(\n",
    "    title='Relative Häufigkeit von kontaktierten Behörden',\n",
    "    height=200,\n",
    "    width=400\n",
    ").configure_legend(\n",
    "    orient='right',\n",
    "    strokeWidth=1,\n",
    "    padding=10,\n",
    "    strokeColor='grey'\n",
    ").configure_axis(\n",
    "    labelAngle=0\n",
    ")"
   ]
  },
  {
   "attachments": {},
   "cell_type": "markdown",
   "metadata": {},
   "source": [
    "Bei den meisten Fällen wurde die Polizei (8313) kontaktiert. Ebenso gab es viele Fälle mit Kontakt zur Feuerwehr (6513) und Krankenwagen(5726).\n",
    "Bei 5564 Fällen wurden andere kontakiert und bei 2690 Fällen gar keiner."
   ]
  },
  {
   "cell_type": "code",
   "execution_count": null,
   "metadata": {},
   "outputs": [],
   "source": [
    "bar_fraud = alt.Chart(df).mark_bar(size=40).encode(\n",
    "    alt.X('ReportedFraud:N', axis=alt.Axis(title=''),),\n",
    "    alt.Y('count()', axis=alt.Axis(title='')),\n",
    "    alt.Color('ReportedFraud:N', legend=alt.Legend(title='Gemeldeter Betrug')),\n",
    ")\n",
    "\n",
    "text_fraud = alt.Chart(df_gender).mark_text(\n",
    "    align='center',\n",
    "    baseline='middle',\n",
    "    fontWeight='bold',\n",
    "    dy=-10\n",
    ").encode(\n",
    "    x=alt.X('ReportedFraud:N', axis=alt.Axis(title=''),),\n",
    "    y=alt.Y('count()', axis=alt.Axis(title='Anzahl')),\n",
    "    text=alt.Text('count()')\n",
    ")\n",
    "group_fraud = bar_fraud + text_fraud\n",
    "\n",
    "group_fraud.properties(\n",
    "    title='Relative Häufigkeit von gemeldeten Betrugsfällen',\n",
    "    height=200,\n",
    "    width=400\n",
    ").configure_legend(\n",
    "    orient='top-right',\n",
    "    strokeWidth=1,\n",
    "    padding=10,\n",
    "    strokeColor='grey'\n",
    ").configure_axis(\n",
    "    labelAngle=0\n",
    ")"
   ]
  },
  {
   "attachments": {},
   "cell_type": "markdown",
   "metadata": {},
   "source": [
    "Von 28806 Fällen sind 7780 als Betrug gemeldet worden. 21026 Fälle wurden nicht als Betrug gemeldet."
   ]
  },
  {
   "attachments": {},
   "cell_type": "markdown",
   "metadata": {},
   "source": [
    "### Explorative Analyse"
   ]
  },
  {
   "attachments": {},
   "cell_type": "markdown",
   "metadata": {},
   "source": [
    "<b> H1: Unter 35 jährige Versicherungskunden betrügen öfters. </b> </br> </br> \n",
    "Diese Hypothese wurde gewählt, um zu untersuchen, ob die Altersgruppe der Versicherungskunden einen Einfluss auf die Betrugsrate hat."
   ]
  },
  {
   "cell_type": "code",
   "execution_count": null,
   "metadata": {},
   "outputs": [],
   "source": [
    "\n",
    "pd.crosstab(index=df['is_over_35'], \n",
    "            columns=df['ReportedFraud'],\n",
    "            normalize='index').round(4) * 100"
   ]
  },
  {
   "attachments": {},
   "cell_type": "markdown",
   "metadata": {},
   "source": [
    "Die Betrugsrate bei Kunden unter 35 Jahren ist nur um 0.9 Prozentpunkte höher als bei Kunden über 35 Jahren. </br>\n",
    "Daher ist die Hypothese nur bedingt bestätigt."
   ]
  },
  {
   "attachments": {},
   "cell_type": "markdown",
   "metadata": {},
   "source": [
    "<b>H2: Männer betrügen häufiger als Frauen.</b> </br></br>\n",
    "Diese Hypothese wurde gewählt, da Statistiken zeigen das Männer häufiger Straftaten begehen als Frauen. </br>\n",
    "<i>Quelle: Statistisches Bundesamt. (29. November, 2022). Anzahl der rechtskräftig verurteilten Personen in Deutschland nach Geschlecht von 2011 bis 2021 [Graph]. In Statista. Zugriff am 01. Februar 2023, von https://de.statista.com/statistik/daten/studie/1068769/umfrage/rechtskraeftig-verurteilte-personen-in-deutschland-nach-geschlecht/ </i> </br></br>\n",
    "Es soll daher untersucht werden ob mehr Männer einen Versicherungsbetrug versuchen.</br>"
   ]
  },
  {
   "cell_type": "code",
   "execution_count": null,
   "metadata": {},
   "outputs": [],
   "source": [
    "pd.crosstab(index=df['InsuredGender'], \n",
    "            columns=df['ReportedFraud'],\n",
    "            normalize='index').round(4) * 100"
   ]
  },
  {
   "attachments": {},
   "cell_type": "markdown",
   "metadata": {},
   "source": [
    "Bei den Männern betrügen 28.25% - bei den Frauen 25.97%.\n",
    "Die Hypothese ist somit bestätigt. "
   ]
  },
  {
   "cell_type": "code",
   "execution_count": null,
   "metadata": {},
   "outputs": [],
   "source": [
    "pd.crosstab(index=df['AuthoritiesContacted'], \n",
    "            columns=df['ReportedFraud'],\n",
    "            normalize='index').round(4) * 100\n"
   ]
  },
  {
   "attachments": {},
   "cell_type": "markdown",
   "metadata": {},
   "source": [
    "Wurde keine Authority kontaktiert ist die Betrugsrtate mit 9.88% am geringsten. Wurde die Polizei kontaktiert ist die Betrugsrate mit 24.46% am 2. höchsten. "
   ]
  },
  {
   "cell_type": "markdown",
   "metadata": {},
   "source": [
    "## Visualizations"
   ]
  },
  {
   "cell_type": "markdown",
   "metadata": {},
   "source": [
    "> REMOVE THE FOLLOWING TEXT\n",
    "\n",
    "This section includes a brief description of your visualization creation process.\n",
    "\n",
    "Explain the reasoning for the type of visualization you're using and what other types you considered. \n",
    "\n",
    "Additionally, show how you arrived at the final visualization by describing the plot selection process, variable transformations (if needed), and any other relevant considerations that were part of the visualization creation process."
   ]
  },
  {
   "cell_type": "code",
   "execution_count": null,
   "metadata": {},
   "outputs": [],
   "source": []
  },
  {
   "cell_type": "markdown",
   "metadata": {},
   "source": [
    "## Conclusion + recommended action\n"
   ]
  },
  {
   "cell_type": "markdown",
   "metadata": {},
   "source": [
    "> REMOVE THE FOLLOWING TEXT\n",
    "\n",
    "In this section you'll include a summary of what you have learned about your (research) question along with (statistical) arguments supporting your conclusions.\n",
    "\n",
    "In addition, discuss the limitations of your analysis and provide suggestions on ways the analysis could be improved.\n",
    "\n",
    "Any potential issues pertaining to the reliability and validity of your data and appropriateness of the statistical analysis should also be discussed here.\n",
    "\n",
    "Lastly, this section will include your recommended action."
   ]
  },
  {
   "cell_type": "markdown",
   "metadata": {},
   "source": []
  }
 ],
 "metadata": {
  "kernelspec": {
   "display_name": "Python 3",
   "language": "python",
   "name": "python3"
  },
  "language_info": {
   "name": "python",
   "version": "3.9.5 (tags/v3.9.5:0a7dcbd, May  3 2021, 17:27:52) [MSC v.1928 64 bit (AMD64)]"
  },
  "orig_nbformat": 4,
  "vscode": {
   "interpreter": {
    "hash": "81794d4967e6c3204c66dcd87b604927b115b27c00565d3d43f05ba2f3a2cb0d"
   }
  }
 },
 "nbformat": 4,
 "nbformat_minor": 2
}
