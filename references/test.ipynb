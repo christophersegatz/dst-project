{
 "cells": [
  {
   "cell_type": "code",
   "execution_count": 9,
   "metadata": {},
   "outputs": [
    {
     "ename": "InvalidIndexError",
     "evalue": "Reindexing only valid with uniquely valued Index objects",
     "output_type": "error",
     "traceback": [
      "\u001b[0;31m---------------------------------------------------------------------------\u001b[0m",
      "\u001b[0;31mInvalidIndexError\u001b[0m                         Traceback (most recent call last)",
      "Cell \u001b[0;32mIn [9], line 18\u001b[0m\n\u001b[1;32m     12\u001b[0m df4 \u001b[38;5;241m=\u001b[39mpd\u001b[38;5;241m.\u001b[39mread_csv(\u001b[38;5;124mr\u001b[39m\u001b[38;5;124m\"\u001b[39m\u001b[38;5;124mhttps://raw.githubusercontent.com/christophersegatz/dst-project/main/data/insurance_fraud/Target.csv\u001b[39m\u001b[38;5;124m\"\u001b[39m,\n\u001b[1;32m     13\u001b[0m                   index_col\u001b[38;5;241m=\u001b[39m[\u001b[38;5;241m0\u001b[39m], parse_dates\u001b[38;5;241m=\u001b[39m[\u001b[38;5;241m0\u001b[39m])\n\u001b[1;32m     15\u001b[0m df5 \u001b[38;5;241m=\u001b[39mpd\u001b[38;5;241m.\u001b[39mread_csv(\u001b[38;5;124mr\u001b[39m\u001b[38;5;124m\"\u001b[39m\u001b[38;5;124mhttps://raw.githubusercontent.com/christophersegatz/dst-project/main/data/insurance_fraud/Vehicle.csv\u001b[39m\u001b[38;5;124m\"\u001b[39m,\n\u001b[1;32m     16\u001b[0m                   index_col\u001b[38;5;241m=\u001b[39m[\u001b[38;5;241m0\u001b[39m], parse_dates\u001b[38;5;241m=\u001b[39m[\u001b[38;5;241m0\u001b[39m])\n\u001b[0;32m---> 18\u001b[0m finaldf \u001b[38;5;241m=\u001b[39m \u001b[43mpd\u001b[49m\u001b[38;5;241;43m.\u001b[39;49m\u001b[43mconcat\u001b[49m\u001b[43m(\u001b[49m\u001b[43m[\u001b[49m\u001b[43mdf\u001b[49m\u001b[43m,\u001b[49m\u001b[43m \u001b[49m\u001b[43mdf2\u001b[49m\u001b[43m,\u001b[49m\u001b[43m \u001b[49m\u001b[43mdf3\u001b[49m\u001b[43m,\u001b[49m\u001b[43m \u001b[49m\u001b[43mdf4\u001b[49m\u001b[43m,\u001b[49m\u001b[43m \u001b[49m\u001b[43mdf5\u001b[49m\u001b[43m \u001b[49m\u001b[43m]\u001b[49m\u001b[43m,\u001b[49m\u001b[43m \u001b[49m\u001b[43maxis\u001b[49m\u001b[38;5;241;43m=\u001b[39;49m\u001b[38;5;241;43m1\u001b[39;49m\u001b[43m,\u001b[49m\u001b[43m \u001b[49m\u001b[43mjoin\u001b[49m\u001b[38;5;241;43m=\u001b[39;49m\u001b[38;5;124;43m'\u001b[39;49m\u001b[38;5;124;43mouter\u001b[39;49m\u001b[38;5;124;43m'\u001b[39;49m\u001b[43m)\u001b[49m\u001b[38;5;241m.\u001b[39msort_index()\n",
      "File \u001b[0;32m~/opt/anaconda3/envs/dst/lib/python3.9/site-packages/pandas/util/_decorators.py:317\u001b[0m, in \u001b[0;36mdeprecate_nonkeyword_arguments.<locals>.decorate.<locals>.wrapper\u001b[0;34m(*args, **kwargs)\u001b[0m\n\u001b[1;32m    311\u001b[0m \u001b[39mif\u001b[39;00m \u001b[39mlen\u001b[39m(args) \u001b[39m>\u001b[39m num_allow_args:\n\u001b[1;32m    312\u001b[0m     warnings\u001b[39m.\u001b[39mwarn(\n\u001b[1;32m    313\u001b[0m         msg\u001b[39m.\u001b[39mformat(arguments\u001b[39m=\u001b[39marguments),\n\u001b[1;32m    314\u001b[0m         \u001b[39mFutureWarning\u001b[39;00m,\n\u001b[1;32m    315\u001b[0m         stacklevel\u001b[39m=\u001b[39mfind_stack_level(inspect\u001b[39m.\u001b[39mcurrentframe()),\n\u001b[1;32m    316\u001b[0m     )\n\u001b[0;32m--> 317\u001b[0m \u001b[39mreturn\u001b[39;00m func(\u001b[39m*\u001b[39;49margs, \u001b[39m*\u001b[39;49m\u001b[39m*\u001b[39;49mkwargs)\n",
      "File \u001b[0;32m~/opt/anaconda3/envs/dst/lib/python3.9/site-packages/pandas/core/reshape/concat.py:382\u001b[0m, in \u001b[0;36mconcat\u001b[0;34m(objs, axis, join, ignore_index, keys, levels, names, verify_integrity, sort, copy)\u001b[0m\n\u001b[1;32m    160\u001b[0m \u001b[39m\"\"\"\u001b[39;00m\n\u001b[1;32m    161\u001b[0m \u001b[39mConcatenate pandas objects along a particular axis.\u001b[39;00m\n\u001b[1;32m    162\u001b[0m \n\u001b[0;32m   (...)\u001b[0m\n\u001b[1;32m    367\u001b[0m \u001b[39m1   3   4\u001b[39;00m\n\u001b[1;32m    368\u001b[0m \u001b[39m\"\"\"\u001b[39;00m\n\u001b[1;32m    369\u001b[0m op \u001b[39m=\u001b[39m _Concatenator(\n\u001b[1;32m    370\u001b[0m     objs,\n\u001b[1;32m    371\u001b[0m     axis\u001b[39m=\u001b[39maxis,\n\u001b[0;32m   (...)\u001b[0m\n\u001b[1;32m    379\u001b[0m     sort\u001b[39m=\u001b[39msort,\n\u001b[1;32m    380\u001b[0m )\n\u001b[0;32m--> 382\u001b[0m \u001b[39mreturn\u001b[39;00m op\u001b[39m.\u001b[39;49mget_result()\n",
      "File \u001b[0;32m~/opt/anaconda3/envs/dst/lib/python3.9/site-packages/pandas/core/reshape/concat.py:613\u001b[0m, in \u001b[0;36m_Concatenator.get_result\u001b[0;34m(self)\u001b[0m\n\u001b[1;32m    611\u001b[0m         obj_labels \u001b[39m=\u001b[39m obj\u001b[39m.\u001b[39maxes[\u001b[39m1\u001b[39m \u001b[39m-\u001b[39m ax]\n\u001b[1;32m    612\u001b[0m         \u001b[39mif\u001b[39;00m \u001b[39mnot\u001b[39;00m new_labels\u001b[39m.\u001b[39mequals(obj_labels):\n\u001b[0;32m--> 613\u001b[0m             indexers[ax] \u001b[39m=\u001b[39m obj_labels\u001b[39m.\u001b[39;49mget_indexer(new_labels)\n\u001b[1;32m    615\u001b[0m     mgrs_indexers\u001b[39m.\u001b[39mappend((obj\u001b[39m.\u001b[39m_mgr, indexers))\n\u001b[1;32m    617\u001b[0m new_data \u001b[39m=\u001b[39m concatenate_managers(\n\u001b[1;32m    618\u001b[0m     mgrs_indexers, \u001b[39mself\u001b[39m\u001b[39m.\u001b[39mnew_axes, concat_axis\u001b[39m=\u001b[39m\u001b[39mself\u001b[39m\u001b[39m.\u001b[39mbm_axis, copy\u001b[39m=\u001b[39m\u001b[39mself\u001b[39m\u001b[39m.\u001b[39mcopy\n\u001b[1;32m    619\u001b[0m )\n",
      "File \u001b[0;32m~/opt/anaconda3/envs/dst/lib/python3.9/site-packages/pandas/core/indexes/base.py:3902\u001b[0m, in \u001b[0;36mIndex.get_indexer\u001b[0;34m(self, target, method, limit, tolerance)\u001b[0m\n\u001b[1;32m   3899\u001b[0m \u001b[39mself\u001b[39m\u001b[39m.\u001b[39m_check_indexing_method(method, limit, tolerance)\n\u001b[1;32m   3901\u001b[0m \u001b[39mif\u001b[39;00m \u001b[39mnot\u001b[39;00m \u001b[39mself\u001b[39m\u001b[39m.\u001b[39m_index_as_unique:\n\u001b[0;32m-> 3902\u001b[0m     \u001b[39mraise\u001b[39;00m InvalidIndexError(\u001b[39mself\u001b[39m\u001b[39m.\u001b[39m_requires_unique_msg)\n\u001b[1;32m   3904\u001b[0m \u001b[39mif\u001b[39;00m \u001b[39mlen\u001b[39m(target) \u001b[39m==\u001b[39m \u001b[39m0\u001b[39m:\n\u001b[1;32m   3905\u001b[0m     \u001b[39mreturn\u001b[39;00m np\u001b[39m.\u001b[39marray([], dtype\u001b[39m=\u001b[39mnp\u001b[39m.\u001b[39mintp)\n",
      "\u001b[0;31mInvalidIndexError\u001b[0m: Reindexing only valid with uniquely valued Index objects"
     ]
    }
   ],
   "source": [
    "\n",
    "import pandas as pd\n",
    "\n",
    "df = pd.read_csv(r\"https://raw.githubusercontent.com/christophersegatz/dst-project/main/data/insurance_fraud/Claim.csv\",\n",
    "                  index_col=[0], parse_dates=[0])\n",
    "\n",
    "df2 = pd.read_csv(r\"https://raw.githubusercontent.com/christophersegatz/dst-project/main/data/insurance_fraud/Demographics.csv\",\n",
    "                  index_col=[0], parse_dates=[0])\n",
    "\n",
    "df3 =pd.read_csv(r\"https://raw.githubusercontent.com/christophersegatz/dst-project/main/data/insurance_fraud/Policy.csv\",\n",
    "                  index_col=[9], parse_dates=[0])\n",
    "\n",
    "df4 =pd.read_csv(r\"https://raw.githubusercontent.com/christophersegatz/dst-project/main/data/insurance_fraud/Target.csv\",\n",
    "                  index_col=[0], parse_dates=[0])\n",
    "\n",
    "df5 =pd.read_csv(r\"https://raw.githubusercontent.com/christophersegatz/dst-project/main/data/insurance_fraud/Vehicle.csv\",\n",
    "                  index_col=[0], parse_dates=[0])\n",
    "\n",
    "finaldf = pd.concat([df, df2, df3, df4, df5 ], axis=1, join='outer').sort_index()\n",
    "            "
   ]
  },
  {
   "cell_type": "code",
   "execution_count": 3,
   "metadata": {},
   "outputs": [
    {
     "name": "stdout",
     "output_type": "stream",
     "text": [
      "<class 'pandas.core.frame.DataFrame'>\n",
      "Index: 28836 entries, Cust10000 to Cust9999\n",
      "Data columns (total 27 columns):\n",
      " #   Column                 Non-Null Count  Dtype \n",
      "---  ------                 --------------  ----- \n",
      " 0   DateOfIncident         28836 non-null  object\n",
      " 1   TypeOfIncident         28836 non-null  object\n",
      " 2   TypeOfCollission       28836 non-null  object\n",
      " 3   SeverityOfIncident     28836 non-null  object\n",
      " 4   AuthoritiesContacted   28836 non-null  object\n",
      " 5   IncidentState          28836 non-null  object\n",
      " 6   IncidentCity           28836 non-null  object\n",
      " 7   IncidentAddress        28836 non-null  object\n",
      " 8   IncidentTime           28836 non-null  int64 \n",
      " 9   NumberOfVehicles       28836 non-null  int64 \n",
      " 10  PropertyDamage         28836 non-null  object\n",
      " 11  BodilyInjuries         28836 non-null  int64 \n",
      " 12  Witnesses              28836 non-null  object\n",
      " 13  PoliceReport           28836 non-null  object\n",
      " 14  AmountOfTotalClaim     28836 non-null  object\n",
      " 15  AmountOfInjuryClaim    28836 non-null  int64 \n",
      " 16  AmountOfPropertyClaim  28836 non-null  int64 \n",
      " 17  AmountOfVehicleDamage  28836 non-null  int64 \n",
      " 18  InsuredAge             28836 non-null  int64 \n",
      " 19  InsuredZipCode         28836 non-null  int64 \n",
      " 20  InsuredGender          28806 non-null  object\n",
      " 21  InsuredEducationLevel  28836 non-null  object\n",
      " 22  InsuredOccupation      28836 non-null  object\n",
      " 23  InsuredHobbies         28836 non-null  object\n",
      " 24  CapitalGains           28836 non-null  int64 \n",
      " 25  CapitalLoss            28836 non-null  int64 \n",
      " 26  Country                28834 non-null  object\n",
      "dtypes: int64(10), object(17)\n",
      "memory usage: 7.2+ MB\n"
     ]
    }
   ],
   "source": [
    "finaldf.info()"
   ]
  }
 ],
 "metadata": {
  "kernelspec": {
   "display_name": "Python 3.9.13 ('dst')",
   "language": "python",
   "name": "python3"
  },
  "language_info": {
   "codemirror_mode": {
    "name": "ipython",
    "version": 3
   },
   "file_extension": ".py",
   "mimetype": "text/x-python",
   "name": "python",
   "nbconvert_exporter": "python",
   "pygments_lexer": "ipython3",
   "version": "3.9.13"
  },
  "orig_nbformat": 4,
  "vscode": {
   "interpreter": {
    "hash": "d3a10d2cdb6df08776498bbfea3f1ea39a22562ffd901b3111d76b0c8575b29e"
   }
  }
 },
 "nbformat": 4,
 "nbformat_minor": 2
}
