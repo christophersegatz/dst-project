{
 "cells": [
  {
   "cell_type": "code",
   "execution_count": 2,
   "metadata": {},
   "outputs": [],
   "source": [
    "\n",
    "import pandas as pd\n",
    "\n",
    "df = pd.read_csv(r\"https://raw.githubusercontent.com/christophersegatz/dst-project/main/data/insurance_fraud/Claim.csv\",\n",
    "                  index_col=[0], parse_dates=[0])\n",
    "\n",
    "df2 = pd.read_csv(r\"https://raw.githubusercontent.com/christophersegatz/dst-project/main/data/insurance_fraud/Demographics.csv\",\n",
    "                  index_col=[0], parse_dates=[0])\n",
    "\n",
    "df3 =pd.read_csv(r\"https://raw.githubusercontent.com/christophersegatz/dst-project/main/data/insurance_fraud/Policy.csv\",\n",
    "                  index_col=[9], parse_dates=[0])\n",
    "\n",
    "df4 =pd.read_csv(r\"https://raw.githubusercontent.com/christophersegatz/dst-project/main/data/insurance_fraud/Target.csv\",\n",
    "                  index_col=[0], parse_dates=[0])\n",
    "\n",
    "\n",
    "finaldf = pd.concat([df, df2, df3, df4 ], axis=1, join='outer').sort_index()\n",
    "            "
   ]
  },
  {
   "cell_type": "code",
   "execution_count": 6,
   "metadata": {},
   "outputs": [],
   "source": [
    "finaldf.to_csv(\"fraud.csv\", sep=',')"
   ]
  }
 ],
 "metadata": {
  "kernelspec": {
   "display_name": "Python 3.9.13 ('dst')",
   "language": "python",
   "name": "python3"
  },
  "language_info": {
   "codemirror_mode": {
    "name": "ipython",
    "version": 3
   },
   "file_extension": ".py",
   "mimetype": "text/x-python",
   "name": "python",
   "nbconvert_exporter": "python",
   "pygments_lexer": "ipython3",
   "version": "3.9.13"
  },
  "orig_nbformat": 4,
  "vscode": {
   "interpreter": {
    "hash": "cf697bb68b4ae89642a3bbde773dff5b492dfee81b459ced8e1c9ebefef5c639"
   }
  }
 },
 "nbformat": 4,
 "nbformat_minor": 2
}
