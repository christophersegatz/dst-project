{
 "cells": [
  {
   "cell_type": "markdown",
   "metadata": {},
   "source": [
    "# Project proposal\n",
    "\n",
    "---\n",
    "\n",
    "Group name: E\n",
    "\n",
    "---\n"
   ]
  },
  {
   "cell_type": "markdown",
   "metadata": {},
   "source": [
    "## Introduction\n",
    "\n",
    "Durch die Digitalisierung der Versicherungsbranche wurde eine neue Norm gesetzt, die es ermöglichte besser auf die Bedürfnisse der Kunden einzugehen. Die Versicherungen stellten sich damit einer bereits bekannten Herausforderung, dem Versicherungsbetrug. Jede zehnte Schadensmeldung ist betrugsverdächtig und kostet den deutschen Versicherungen rund fünf Milliarden Euro pro Jahr (GDV, 2020). Um Versicherungsbetrug zu erkennen, wird spezielle Betrugserkennungssoftware verwendet. Hierbei nutzen Versicherungsbetrüger zunehmend Anleitungen aus dem Internet, die es erleichtern die Betrugserkennungssoftware zu umgehen (GDV, 2020). \n",
    "\n",
    "Mit diesem Datensatz untersuchen wir, ob und welche Maßnahmen nötig sind, um den Prozess der Erkennung von Versicherungsbetrug zu verbessern. \n",
    "\n",
    "Wie können Betrugsfälle von der Betrugserkennungssoftware und Mitarbeiter besser erkannt werden? Welche Maßnahmen sind dazu nötig?\n",
    "\n",
    "1. Unter 35 jährige Versicherungskunden betrügen öfters.\n",
    "\n",
    "2. Männer betrügen häufiger als Frauen.\n",
    "\n",
    "3. Personen mit einem niedrigem Bildungsabschluss betrügen häufiger.\n",
    "\n",
    "4. Personen mit einem höherem Loyalityscore betrügen weniger häufig.\n",
    "\n",
    "5. Schadensfälle ohne polizeilicher Dokumentation sind häufiger Betrugsfälle.\n",
    "\n",
    "6. Schadensfälle mit mehreren beteiligten Fahrzeugen sind weniger in Betrugsfälle verwickelt.\n",
    "\n",
    "\n",
    "The introduction section includes\n",
    "\n",
    "-   an introduction to the subject matter you're investigating\n",
    "-   the motivation for your question (citing any relevant literature/study results ...)\n",
    "-   the general (research) question you wish to explore\n",
    "-   your hypotheses regarding the (research) question of interest."
   ]
  },
  {
   "cell_type": "markdown",
   "metadata": {},
   "source": [
    "\n",
    "## Data description\n",
    "\n",
    "In this section, you will describe the data set you wish to explore. This includes\n",
    "\n",
    "-   description of the observations in the data set,\n",
    "-   description of how the data was originally collected (not how you found the data but how the original curator of the data collected it)."
   ]
  },
  {
   "cell_type": "markdown",
   "metadata": {},
   "source": [
    "## Analysis approach\n",
    "\n",
    "In this section, you will provide a brief overview of your analysis approach. This includes:\n",
    "\n",
    "-   Description of the relevant variable.\n",
    "-   Exploratory data analysis and summary statistics for the relevant variables.\n",
    "-   The visualization types (what kind of visualizations you will you use)"
   ]
  },
  {
   "cell_type": "markdown",
   "metadata": {},
   "source": [
    "## Data dictionary\n",
    "\n",
    "*Create a data dictionary for all the variables in your data set. You may fill out the data description table or create your own table with Pandas:*\n",
    "\n",
    "<br>\n",
    "\n",
    "\n",
    "| Name  |   Description\t   \t| Type   \t|  Format \t|\n",
    "|---\t|---\t          \t|---\t    |---\t|\n",
    "|   \t|   \t            |   \t    |   \t|\n",
    "|   \t|   \t       \t    |   \t    |   \t|\n",
    "|   \t|   \t       \t    |   \t    |   \t|\n",
    "\n",
    "\n",
    "<br>\n",
    "\n",
    "\n",
    "- `Type`: nominal, ordinal or numeric\n",
    "\n",
    "- `Format`: int, float, string, category, date or object"
   ]
  }
 ],
 "metadata": {
  "kernelspec": {
   "display_name": "Python 3.9.5 64-bit",
   "language": "python",
   "name": "python3"
  },
  "language_info": {
   "name": "python",
   "version": "3.9.5"
  },
  "orig_nbformat": 4,
  "vscode": {
   "interpreter": {
    "hash": "81794d4967e6c3204c66dcd87b604927b115b27c00565d3d43f05ba2f3a2cb0d"
   }
  }
 },
 "nbformat": 4,
 "nbformat_minor": 2
}
